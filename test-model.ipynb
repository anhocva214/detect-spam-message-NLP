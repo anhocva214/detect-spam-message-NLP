{
 "cells": [
  {
   "cell_type": "code",
   "execution_count": 1,
   "source": [
    "import pickle\n",
    "\n",
    "model = pickle.load(open(\"Email_spam_detect.pkl\", \"rb\"))\n",
    "tf_vec = pickle.load(open(\"./tf_vec.pkl\", \"rb\"))"
   ],
   "outputs": [],
   "metadata": {}
  },
  {
   "cell_type": "code",
   "execution_count": 4,
   "source": [
    "test_msg = '''\n",
    "hello, my name is an ho\n",
    "'''\n",
    "test = [test_msg]\n",
    "\n",
    "test_msg_vec = tf_vec.transform(test).toarray()\n",
    "\n",
    "y_pred = model.predict(test_msg_vec)\n",
    "y_pred"
   ],
   "outputs": [
    {
     "output_type": "execute_result",
     "data": {
      "text/plain": [
       "array([0])"
      ]
     },
     "metadata": {},
     "execution_count": 4
    }
   ],
   "metadata": {}
  }
 ],
 "metadata": {
  "orig_nbformat": 4,
  "language_info": {
   "name": "python",
   "version": "3.6.13",
   "mimetype": "text/x-python",
   "codemirror_mode": {
    "name": "ipython",
    "version": 3
   },
   "pygments_lexer": "ipython3",
   "nbconvert_exporter": "python",
   "file_extension": ".py"
  },
  "kernelspec": {
   "name": "python3",
   "display_name": "Python 3.6.13 64-bit ('AI': conda)"
  },
  "interpreter": {
   "hash": "5fa0ad83b717811c9b5229558d0b3821bfbb2102e96cd1f920d590e957a84a24"
  }
 },
 "nbformat": 4,
 "nbformat_minor": 2
}